{
 "cells": [
  {
   "cell_type": "raw",
   "id": "685ceb8c",
   "metadata": {},
   "source": [
    "#查看数据\n",
    "import h5py\n",
    "\n",
    "# 打开 h5 文件\n",
    "file_path = './real-data/all.h5'\n",
    "with h5py.File(file_path, 'r') as h5_file:\n",
    "    # 列出文件中的所有组\n",
    "    print(\"Keys: %s\" % h5_file.keys())\n",
    "    # 选择一个组\n",
    "    group_key = list(h5_file.keys())[0]\n",
    "    data = h5_file[group_key][:]\n",
    "    print(data)"
   ]
  },
  {
   "cell_type": "code",
   "execution_count": 1,
   "id": "1a1345fb",
   "metadata": {},
   "outputs": [],
   "source": [
    "import h5py\n",
    "import scipy.special\n",
    "import scipy.optimize\n",
    "import numpy as np\n",
    "\n",
    "file_path = './real-data/all.h5'\n",
    "with h5py.File(file_path, 'r') as h5_file:\n",
    "    data1 = h5_file['mean'][0:2000]\n",
    "    data2 = h5_file['wk'][0:2000]\n",
    "#提取数据中前2000个数据 只需要平均风速mean和风速服从的weibull分布中的形状参数wk\n",
    "mean_wind_speed=[]\n",
    "weibull_shape_wk=[]\n",
    "for i in range(0,2000):\n",
    "    mean_wind_speed.append(data1[i][0])\n",
    "    weibull_shape_wk.append(data2[i][0])"
   ]
  },
  {
   "cell_type": "code",
   "execution_count": 2,
   "id": "4500064d",
   "metadata": {},
   "outputs": [],
   "source": [
    "#接下来要根据平均风速和风速分布的形状参数计算出对应的风速分布的尺度参数c\n",
    "weibull_scale_c=[]\n",
    "#平均风速 形状参数 尺度参数之间的关系为：mean_wind_speed=c*gamma(1 + 1/wk)\n",
    "for i in range(0,2000):\n",
    "    weibull_scale_c.append(mean_wind_speed[i]/(scipy.special.gamma(1 + 1/weibull_shape_wk[i])))"
   ]
  },
  {
   "cell_type": "code",
   "execution_count": 3,
   "id": "3d8d71e8",
   "metadata": {},
   "outputs": [],
   "source": [
    "np.savetxt('./real-data/weibull_scale_c.txt',weibull_scale_c,fmt='%0.8f')\n",
    "np.savetxt('./real-data/weibull_shape_wk.txt',weibull_shape_wk,fmt='%0.8f')"
   ]
  },
  {
   "cell_type": "code",
   "execution_count": null,
   "id": "2944585c",
   "metadata": {},
   "outputs": [],
   "source": []
  },
  {
   "cell_type": "code",
   "execution_count": null,
   "id": "e5bf954c",
   "metadata": {},
   "outputs": [],
   "source": []
  },
  {
   "cell_type": "raw",
   "id": "f919e40c",
   "metadata": {},
   "source": [
    "import scipy.special\n",
    "import scipy.optimize\n",
    "\n",
    "# 定义已知参数\n",
    "A = 14  # 这是一个示例值，可以根据具体问题修改\n",
    "\n",
    "# 定义要求解的方程\n",
    "def objective(x):\n",
    "    return abs(scipy.special.gamma(1 + 1/x) - A)\n",
    "\n",
    "# 设置约束条件 x > 0\n",
    "constraints = {'type': 'ineq', 'fun': lambda x: x}\n",
    "\n",
    "# 使用数值方法求解x\n",
    "initial_guess = 1.0  # 初始猜测值，可以根据实际情况调整\n",
    "result = scipy.optimize.minimize(objective, initial_guess, constraints=constraints)\n",
    "\n",
    "if result.success:\n",
    "    x_solution = result.x[0]\n",
    "    print(\"解 x:\", x_solution)\n",
    "else:\n",
    "    print(\"未能找到解\")"
   ]
  },
  {
   "cell_type": "raw",
   "id": "25e02975",
   "metadata": {},
   "source": [
    "石乾坤-二分法 2024年07月17日 仅此纪念聪慧且胖胖的石乾坤（死胖子）"
   ]
  },
  {
   "cell_type": "raw",
   "id": "17028b92",
   "metadata": {},
   "source": [
    "mean = 10  # 平均风速\n",
    "k = 1  # 形状参数\n",
    "\n",
    "# 定义要求解的方程\n",
    "def equation(lambda_):\n",
    "    return k * scipy.special.gamma(1 + 1/lambda_) - mean\n",
    "\n",
    "x = 1\n",
    "for i in range(100):\n",
    "    if abs(equation(x)) < 1e-5:\n",
    "        break\n",
    "    elif equation(x) < 0:\n",
    "        x = x - 2**(-i-1)\n",
    "    else:\n",
    "        x = x + 2**(-i-1)\n",
    "print(x)"
   ]
  },
  {
   "cell_type": "code",
   "execution_count": null,
   "id": "6be1f4ae",
   "metadata": {},
   "outputs": [],
   "source": []
  }
 ],
 "metadata": {
  "kernelspec": {
   "display_name": "Python 3 (ipykernel)",
   "language": "python",
   "name": "python3"
  },
  "language_info": {
   "codemirror_mode": {
    "name": "ipython",
    "version": 3
   },
   "file_extension": ".py",
   "mimetype": "text/x-python",
   "name": "python",
   "nbconvert_exporter": "python",
   "pygments_lexer": "ipython3",
   "version": "3.8.19"
  }
 },
 "nbformat": 4,
 "nbformat_minor": 5
}
